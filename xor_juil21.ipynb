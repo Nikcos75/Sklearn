{
  "nbformat": 4,
  "nbformat_minor": 0,
  "metadata": {
    "colab": {
      "name": "xor juil21.ipynb",
      "provenance": [],
      "collapsed_sections": [],
      "authorship_tag": "ABX9TyMtLO+CFYhvvrUMp+KcWvXw",
      "include_colab_link": true
    },
    "kernelspec": {
      "name": "python3",
      "display_name": "Python 3"
    }
  },
  "cells": [
    {
      "cell_type": "markdown",
      "metadata": {
        "id": "view-in-github",
        "colab_type": "text"
      },
      "source": [
        "<a href=\"https://colab.research.google.com/github/Nikcos75/Sklearn/blob/main/xor_juil21.ipynb\" target=\"_parent\"><img src=\"https://colab.research.google.com/assets/colab-badge.svg\" alt=\"Open In Colab\"/></a>"
      ]
    },
    {
      "cell_type": "code",
      "metadata": {
        "colab": {
          "base_uri": "https://localhost:8080/"
        },
        "id": "R9OtuP-uv87A",
        "outputId": "3ccea920-abc8-4076-ad18-bbb5f7fd1d94"
      },
      "source": [
        "# regression\n",
        "from sklearn.neural_network import MLPRegressor\n",
        "X=[[0,0],[0,1],[1,0],[1,1]]\n",
        "y=[0,1,1,0]\n",
        "\n",
        "model = MLPRegressor(solver='lbfgs',activation='logistic',random_state=1,hidden_layer_sizes=(3,), max_iter=355)\n",
        "\n",
        "model.fit(X,y) # training\n",
        "model.predict([[0,1]]) # prediction"
      ],
      "execution_count": 10,
      "outputs": [
        {
          "output_type": "execute_result",
          "data": {
            "text/plain": [
              "array([0.99977745])"
            ]
          },
          "metadata": {
            "tags": []
          },
          "execution_count": 10
        }
      ]
    },
    {
      "cell_type": "code",
      "metadata": {
        "colab": {
          "base_uri": "https://localhost:8080/"
        },
        "id": "QWuh5Cq5TMV1",
        "outputId": "b0360f5e-770a-44ca-e4d5-b0a36a30b4b0"
      },
      "source": [
        "# classification\n",
        "from sklearn.neural_network import MLPClassifier\n",
        "X=[[0,0],[0,1],[1,0],[1,1]]\n",
        "y=[0,1,1,0]\n",
        "\n",
        "clf = MLPClassifier(solver='lbfgs',activation='logistic',random_state=1,hidden_layer_sizes=(3,), max_iter=355)\n",
        "clf.fit(X,y)\n",
        "clf.predict([[1,1]])"
      ],
      "execution_count": 11,
      "outputs": [
        {
          "output_type": "execute_result",
          "data": {
            "text/plain": [
              "array([0])"
            ]
          },
          "metadata": {
            "tags": []
          },
          "execution_count": 11
        }
      ]
    },
    {
      "cell_type": "code",
      "metadata": {
        "colab": {
          "base_uri": "https://localhost:8080/"
        },
        "id": "18EAIJdz6zP-",
        "outputId": "1ae48282-4b8f-4b8b-e666-590e6b321db9"
      },
      "source": [
        "# coefficients\n",
        "print(clf.coefs_[0])"
      ],
      "execution_count": 12,
      "outputs": [
        {
          "output_type": "stream",
          "text": [
            "[[ 3.15258545  6.23433682  6.19078951]\n",
            " [ 1.17466746 -6.52828547 -5.91335392]]\n"
          ],
          "name": "stdout"
        }
      ]
    },
    {
      "cell_type": "code",
      "metadata": {
        "colab": {
          "base_uri": "https://localhost:8080/"
        },
        "id": "9pzry_kA67jS",
        "outputId": "ee6be46d-709d-4b91-801d-c94dfbcbe6a3"
      },
      "source": [
        "print(clf.coefs_[1])"
      ],
      "execution_count": 13,
      "outputs": [
        {
          "output_type": "stream",
          "text": [
            "[[  1.92072003]\n",
            " [ 14.01226254]\n",
            " [-14.75937469]]\n"
          ],
          "name": "stdout"
        }
      ]
    },
    {
      "cell_type": "markdown",
      "metadata": {
        "id": "z9NLzvz2SMDN"
      },
      "source": [
        ""
      ]
    }
  ]
}